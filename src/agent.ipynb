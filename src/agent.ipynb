{
 "cells": [
  {
   "cell_type": "code",
   "execution_count": 1,
   "metadata": {},
   "outputs": [
    {
     "name": "stdout",
     "output_type": "stream",
     "text": [
      "Adding to sys.path: c:\\Users\\Kirsingh\\OneDrive - Advanced Micro Devices Inc\\Desktop\\ScreenWhisper\\util\n"
     ]
    }
   ],
   "source": [
    "import sys\n",
    "import os\n",
    "\n",
    "# Go up to project root, then into util\n",
    "util_path = os.path.abspath(os.path.join(os.getcwd(), '..', 'util'))\n",
    "print(\"Adding to sys.path:\", util_path)\n",
    "\n",
    "if util_path not in sys.path:\n",
    "    sys.path.append(util_path)\n",
    "\n"
   ]
  },
  {
   "cell_type": "code",
   "execution_count": 53,
   "metadata": {},
   "outputs": [
    {
     "data": {
      "text/plain": [
       "True"
      ]
     },
     "execution_count": 53,
     "metadata": {},
     "output_type": "execute_result"
    }
   ],
   "source": [
    "from langgraph.graph import START, END, StateGraph, MessagesState\n",
    "from langgraph.prebuilt import ToolNode, tools_condition, create_react_agent\n",
    "from IPython.display import Image, display\n",
    "from dotenv import load_dotenv\n",
    "from langgraph.graph.message import add_messages\n",
    "from langchain_google_genai import ChatGoogleGenerativeAI\n",
    "from langchain_core.messages import HumanMessage, SystemMessage\n",
    "from langchain_groq import ChatGroq\n",
    "from pydantic import BaseModel, Field\n",
    "from langchain_core.output_parsers import PydanticOutputParser\n",
    "from langchain_core.prompts import PromptTemplate\n",
    "from typing import Annotated\n",
    "from computer_tools import click_at, scroll, type_text_at, wait\n",
    "import pyautogui\n",
    "import torch\n",
    "from ultralytics import YOLO\n",
    "from PIL import Image\n",
    "import importlib\n",
    "parent_dir = os.path.abspath(os.path.join(os.getcwd(), \"..\"))  # Goes up one level from current directory\n",
    "sys.path.append(parent_dir)\n",
    "from util.utils import get_som_labeled_img, check_ocr_box, get_caption_model_processor, get_yolo_model\n",
    "load_dotenv()"
   ]
  },
  {
   "cell_type": "code",
   "execution_count": 54,
   "metadata": {},
   "outputs": [],
   "source": [
    "qwen = ChatGroq(\n",
    "    model=\"qwen-qwq-32b\",\n",
    "    temperature=0,\n",
    ")"
   ]
  },
  {
   "cell_type": "code",
   "execution_count": null,
   "metadata": {},
   "outputs": [],
   "source": [
    "gemma = ChatGoogleGenerativeAI(model=\"gemini-1.5-flash\",  temperature=0)"
   ]
  },
  {
   "cell_type": "markdown",
   "metadata": {},
   "source": [
    "# **<u>Graph State</u>**"
   ]
  },
  {
   "cell_type": "code",
   "execution_count": 55,
   "metadata": {},
   "outputs": [],
   "source": [
    "class State(MessagesState):\n",
    "    query: str"
   ]
  },
  {
   "cell_type": "markdown",
   "metadata": {},
   "source": [
    "# **<u>Binding Tools</u>**"
   ]
  },
  {
   "cell_type": "code",
   "execution_count": 167,
   "metadata": {},
   "outputs": [],
   "source": [
    "llm_with_tools = qwen.bind_tools(tools=[click_at, scroll, type_text_at, wait])"
   ]
  },
  {
   "cell_type": "markdown",
   "metadata": {},
   "source": [
    "# **<u>Computer Use</u>**"
   ]
  },
  {
   "cell_type": "code",
   "execution_count": 6,
   "metadata": {},
   "outputs": [],
   "source": [
    "from PIL import Image"
   ]
  },
  {
   "cell_type": "code",
   "execution_count": null,
   "metadata": {},
   "outputs": [
    {
     "name": "stdout",
     "output_type": "stream",
     "text": [
      "model to cuda\n"
     ]
    },
    {
     "name": "stderr",
     "output_type": "stream",
     "text": [
      "Florence2LanguageForConditionalGeneration has generative capabilities, as `prepare_inputs_for_generation` is explicitly overwritten. However, it doesn't directly inherit from `GenerationMixin`. From 👉v4.50👈 onwards, `PreTrainedModel` will NOT inherit from `GenerationMixin`, and this model will lose the ability to call `generate` and other related functions.\n",
      "  - If you're using `trust_remote_code=True`, you can get rid of this warning by loading the model with an auto class. See https://huggingface.co/docs/transformers/en/model_doc/auto#auto-classes\n",
      "  - If you are the owner of the model architecture code, please modify your model class such that it inherits from `GenerationMixin` (after `PreTrainedModel`, otherwise you'll get an exception).\n",
      "  - If you are not the owner of the model architecture class, please contact the model code owner to update it.\n"
     ]
    }
   ],
   "source": [
    "device = 'cuda'\n",
    "model_path=r\"weights\\icon_detect\\model_v1_5.pt\"\n",
    "som_model = get_yolo_model(model_path)\n",
    "#som_model.to(device)\n",
    "print('model to {}'.format(device))\n",
    "\n",
    "\n",
    "caption_model_processor = get_caption_model_processor(model_name=\"florence2\", model_name_or_path=r\"weights\\icon_caption_florence\")"
   ]
  },
  {
   "cell_type": "code",
   "execution_count": 158,
   "metadata": {},
   "outputs": [],
   "source": [
    "def cua(state):\n",
    "    print(\"----------------CUA START------------------\")\n",
    "    \n",
    "\n",
    "    input_prompt = cua_prompt.invoke({\"task\": state[\"query\"]})\n",
    "    result = llm_with_tools.invoke(input_prompt)\n",
    "\n",
    "    return {\"messages\": result}\n",
    "    \n",
    "\n",
    "    "
   ]
  },
  {
   "cell_type": "code",
   "execution_count": 9,
   "metadata": {},
   "outputs": [],
   "source": [
    "def cua(state):\n",
    "    print(\"----------------CUA START------------------\")\n",
    "\n",
    "    image = pyautogui.screenshot(\"screen.jpg\")\n",
    "\n",
    "\n",
    "    image_path = \"screen.jpg\"\n",
    "    image = Image.open(image_path)\n",
    "    image_rgb = image.convert('RGB')\n",
    "    print('image size:', image.size)\n",
    "\n",
    "    box_overlay_ratio = max(image.size) / 3200\n",
    "    draw_bbox_config = {\n",
    "        'text_scale': 0.8 * box_overlay_ratio,\n",
    "        'text_thickness': max(int(2 * box_overlay_ratio), 1),\n",
    "        'text_padding': max(int(3 * box_overlay_ratio), 1),\n",
    "        'thickness': max(int(3 * box_overlay_ratio), 1),\n",
    "    }\n",
    "    BOX_TRESHOLD = 0.05\n",
    "\n",
    "    import time\n",
    "    start = time.time()\n",
    "    ocr_bbox_rslt, is_goal_filtered = check_ocr_box(image_path, display_img = False, output_bb_format='xyxy', goal_filtering=None, easyocr_args={'paragraph': False, 'text_threshold':0.9}, use_paddleocr=True)\n",
    "    text, ocr_bbox = ocr_bbox_rslt\n",
    "    cur_time_ocr = time.time() \n",
    "\n",
    "    dino_labled_img, label_coordinates, parsed_content_list = get_som_labeled_img(image_path, som_model, BOX_TRESHOLD = BOX_TRESHOLD, output_coord_in_ratio=True, ocr_bbox=ocr_bbox,draw_bbox_config=draw_bbox_config, caption_model_processor=caption_model_processor, ocr_text=text,use_local_semantics=True, iou_threshold=0.7, scale_img=False, batch_size=128)\n",
    "    cur_time_caption = time.time() \n",
    "    \n",
    "    screen_width = 1920\n",
    "    screen_height = 1200\n",
    "\n",
    "    center_coords_and_content_str = \"\\n\".join(\n",
    "        f\"Content: {item['content']} | Center: ({int((item['bbox'][0] + item['bbox'][2]) / 2 * screen_width)}, {int((item['bbox'][1] + item['bbox'][3]) / 2 * screen_height)})\"\n",
    "        for item in parsed_content_list\n",
    "    )\n",
    "\n",
    "    print(center_coords_and_content_str)\n",
    "\n",
    "\n",
    "    input_prompt = cua_prompt.invoke({\"task\": state[\"query\"], \"screen_state\": center_coords_and_content_str})\n",
    "    result = llm_with_tools.invoke(input_prompt)\n",
    "\n",
    "    return {\"messages\": result}\n",
    "    \n",
    "\n",
    "    "
   ]
  },
  {
   "cell_type": "markdown",
   "metadata": {},
   "source": [
    "# **<u>Router</u>**"
   ]
  },
  {
   "cell_type": "code",
   "execution_count": 151,
   "metadata": {},
   "outputs": [],
   "source": [
    "def router(state):\n",
    "    print(\"------------------router-------------------\")\n",
    "\n",
    "    messages = state[\"messages\"]\n",
    "    print(\"messages in router\", messages)\n",
    "    last_message = messages[-1]\n",
    "    print(\"last messages\", last_message)\n",
    "    if last_message.tool_calls:\n",
    "        return \"tools\"\n",
    "    return END"
   ]
  },
  {
   "cell_type": "code",
   "execution_count": 160,
   "metadata": {},
   "outputs": [],
   "source": [
    "tools=[click_at, type_text_at, wait]"
   ]
  },
  {
   "cell_type": "markdown",
   "metadata": {},
   "source": [
    "# **<u>Graph Builder</u>**"
   ]
  },
  {
   "cell_type": "code",
   "execution_count": 161,
   "metadata": {},
   "outputs": [],
   "source": [
    "builder = StateGraph(State)"
   ]
  },
  {
   "cell_type": "markdown",
   "metadata": {},
   "source": [
    "# **<u>Nodes</u>**"
   ]
  },
  {
   "cell_type": "code",
   "execution_count": 162,
   "metadata": {},
   "outputs": [
    {
     "data": {
      "text/plain": [
       "<langgraph.graph.state.StateGraph at 0x1da5db20b10>"
      ]
     },
     "execution_count": 162,
     "metadata": {},
     "output_type": "execute_result"
    }
   ],
   "source": [
    "builder.add_node(\"cua\", cua)\n",
    "builder.add_node(\"tools\", ToolNode(tools=tools))\n"
   ]
  },
  {
   "cell_type": "markdown",
   "metadata": {},
   "source": [
    "# **<u>Edges</u>**"
   ]
  },
  {
   "cell_type": "code",
   "execution_count": 163,
   "metadata": {},
   "outputs": [
    {
     "data": {
      "text/plain": [
       "<langgraph.graph.state.StateGraph at 0x1da5db20b10>"
      ]
     },
     "execution_count": 163,
     "metadata": {},
     "output_type": "execute_result"
    }
   ],
   "source": [
    "builder.add_edge(START, \"cua\")\n",
    "builder.add_conditional_edges(\"cua\", router)\n",
    "builder.add_edge(\"tools\", \"cua\")\n"
   ]
  },
  {
   "cell_type": "markdown",
   "metadata": {},
   "source": [
    "# **<u>Graph</u>**"
   ]
  },
  {
   "cell_type": "code",
   "execution_count": 122,
   "metadata": {},
   "outputs": [],
   "source": [
    "from langgraph.checkpoint.memory import MemorySaver"
   ]
  },
  {
   "cell_type": "code",
   "execution_count": 123,
   "metadata": {},
   "outputs": [],
   "source": [
    "memory = MemorySaver()"
   ]
  },
  {
   "cell_type": "code",
   "execution_count": 164,
   "metadata": {},
   "outputs": [],
   "source": [
    "graph = builder.compile()"
   ]
  },
  {
   "cell_type": "markdown",
   "metadata": {},
   "source": [
    "# **<u>Graph Plot</u>**"
   ]
  },
  {
   "cell_type": "code",
   "execution_count": 18,
   "metadata": {},
   "outputs": [],
   "source": [
    "from PIL import Image"
   ]
  },
  {
   "cell_type": "code",
   "execution_count": 165,
   "metadata": {},
   "outputs": [
    {
     "data": {
      "image/png": "[encoded data removed]",
      "text/plain": [
       "<IPython.core.display.Image object>"
      ]
     },
     "metadata": {},
     "output_type": "display_data"
    }
   ],
   "source": [
    "from IPython.display import Image, display\n",
    "display(Image(graph.get_graph().draw_mermaid_png()))"
   ]
  },
  {
   "cell_type": "code",
   "execution_count": 125,
   "metadata": {},
   "outputs": [],
   "source": [
    "config = {\"configurable\": {\"thread_id\": \"1\"}}"
   ]
  },
  {
   "cell_type": "code",
   "execution_count": null,
   "metadata": {},
   "outputs": [],
   "source": [
    "inputs = {\"query\":HumanMessage(content=\"open chrome\")}\n",
    "for chunk in graph.stream(inputs, stream_mode=\"values\", config=config):\n",
    "    print(chunk)"
   ]
  },
  {
   "cell_type": "code",
   "execution_count": null,
   "metadata": {},
   "outputs": [],
   "source": []
  }
 ],
 "metadata": {
  "kernelspec": {
   "display_name": "Python 3",
   "language": "python",
   "name": "python3"
  },
  "language_info": {
   "codemirror_mode": {
    "name": "ipython",
    "version": 3
   },
   "file_extension": ".py",
   "mimetype": "text/x-python",
   "name": "python",
   "nbconvert_exporter": "python",
   "pygments_lexer": "ipython3",
   "version": "3.11.8"
  }
 },
 "nbformat": 4,
 "nbformat_minor": 2
}
